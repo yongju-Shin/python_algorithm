{
 "cells": [
  {
   "cell_type": "code",
   "execution_count": 16,
   "metadata": {},
   "outputs": [],
   "source": [
    "#버블정렬\n",
    "\n",
    "def bubble_sort(list):\n",
    "    #리스트의 길이 \n",
    "    n = len(list)\n",
    "    #외부 루프 : 리스트 전체를 순회함\n",
    "    for i in range(n):\n",
    "        # 내부 루프 이미 정렬된 마지막 요소를 제외하고 리스트를 순회함\n",
    "        for j in range(0,n-i-1):\n",
    "            if list[j] > list[j+1]:\n",
    "                list[j],list[j+1] = list[j+1],list[j]\n",
    "            print(list)\n"
   ]
  },
  {
   "cell_type": "code",
   "execution_count": 19,
   "metadata": {},
   "outputs": [
    {
     "name": "stdout",
     "output_type": "stream",
     "text": [
      "[1, 5, 3, 4, 2]\n",
      "[1, 3, 5, 4, 2]\n",
      "[1, 3, 4, 5, 2]\n",
      "[1, 3, 4, 2, 5]\n",
      "[1, 3, 4, 2, 5]\n",
      "[1, 3, 4, 2, 5]\n",
      "[1, 3, 2, 4, 5]\n",
      "[1, 3, 2, 4, 5]\n",
      "[1, 2, 3, 4, 5]\n",
      "[1, 2, 3, 4, 5]\n"
     ]
    }
   ],
   "source": [
    "list = [5,1,3,4,2]\n",
    "\n",
    "bubble_sort(list)"
   ]
  },
  {
   "cell_type": "code",
   "execution_count": null,
   "metadata": {},
   "outputs": [],
   "source": []
  }
 ],
 "metadata": {
  "kernelspec": {
   "display_name": "dev",
   "language": "python",
   "name": "python3"
  },
  "language_info": {
   "codemirror_mode": {
    "name": "ipython",
    "version": 3
   },
   "file_extension": ".py",
   "mimetype": "text/x-python",
   "name": "python",
   "nbconvert_exporter": "python",
   "pygments_lexer": "ipython3",
   "version": "3.8.10"
  }
 },
 "nbformat": 4,
 "nbformat_minor": 2
}
